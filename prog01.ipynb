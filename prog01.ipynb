{
  "nbformat": 4,
  "nbformat_minor": 0,
  "metadata": {
    "colab": {
      "provenance": [],
      "authorship_tag": "ABX9TyNEEcQrAPdXHKnGLW/j6mOc",
      "include_colab_link": true
    },
    "kernelspec": {
      "name": "python3",
      "display_name": "Python 3"
    },
    "language_info": {
      "name": "python"
    }
  },
  "cells": [
    {
      "cell_type": "markdown",
      "metadata": {
        "id": "view-in-github",
        "colab_type": "text"
      },
      "source": [
        "<a href=\"https://colab.research.google.com/github/arthxrmachado/Python/blob/main/prog01.ipynb\" target=\"_parent\"><img src=\"https://colab.research.google.com/assets/colab-badge.svg\" alt=\"Open In Colab\"/></a>"
      ]
    },
    {
      "cell_type": "code",
      "execution_count": null,
      "metadata": {
        "colab": {
          "base_uri": "https://localhost:8080/"
        },
        "id": "4KfGxPzlzqnX",
        "outputId": "17b6ad7b-760e-4f0d-ad4f-990414c08d0b"
      },
      "outputs": [
        {
          "output_type": "stream",
          "name": "stdout",
          "text": [
            "Digite seu primeiro nome: Arthur\n",
            "Digite seu nome do meio: Lourenço\n",
            "Digite seu último nome: Machado\n",
            "\n",
            "Arthur Lourenço Machado\n"
          ]
        }
      ],
      "source": [
        "# Exercício 1:\n",
        "\n",
        "# Crie um Script Python que leia o primeiro nome, nome do meio e último nome, separadamente. No final, o programa deverá imprimir o nome completo da pessoa.\n",
        "\n",
        "primeiro_nome = input('Digite seu primeiro nome: ')\n",
        "meio_nome = input('Digite seu nome do meio: ')\n",
        "ultimo_nome = input('Digite seu último nome: ')\n",
        "\n",
        "print (\"\\n\" + primeiro_nome, meio_nome, ultimo_nome)"
      ]
    }
  ]
}